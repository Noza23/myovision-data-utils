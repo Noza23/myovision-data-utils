{
 "cells": [
  {
   "cell_type": "code",
   "execution_count": 24,
   "metadata": {},
   "outputs": [],
   "source": [
    "import numpy as np\n",
    "import matplotlib.pyplot as plt\n",
    "from generator_backend.utils import (\n",
    "    preprocess_image,\n",
    "    read_image_rgb,\n",
    "    convert_to_hsl\n",
    ")\n",
    "import os"
   ]
  },
  {
   "cell_type": "code",
   "execution_count": 6,
   "metadata": {},
   "outputs": [],
   "source": [
    "data_dir = \"/Users/giorginozadze/Desktop/myovision/data/myotube/\"\n",
    "data_files = os.listdir(data_dir)"
   ]
  },
  {
   "cell_type": "code",
   "execution_count": 29,
   "metadata": {},
   "outputs": [],
   "source": [
    "mean_values, std_values = [], []\n",
    "for f in data_files:\n",
    "    image = read_image_rgb(data_dir + f)\n",
    "    mean_values.append(np.mean(image, axis=(0, 1)))\n",
    "    std_values.append(np.std(image, axis=(0, 1)))"
   ]
  },
  {
   "cell_type": "code",
   "execution_count": 51,
   "metadata": {},
   "outputs": [
    {
     "data": {
      "text/plain": [
       "array([3.88489258, 7.59078115, 0.9900479 ])"
      ]
     },
     "execution_count": 51,
     "metadata": {},
     "output_type": "execute_result"
    },
    {
     "data": {
      "image/png": "[encoded data removed]",
      "text/plain": [
       "<Figure size 432x288 with 1 Axes>"
      ]
     },
     "metadata": {
      "needs_background": "light"
     },
     "output_type": "display_data"
    }
   ],
   "source": [
    "mean_values = np.array(mean_values)\n",
    "plt.hist(mean_values[:, 0], bins=41, alpha=0.5, label='red', color='red')\n",
    "plt.hist(mean_values[:, 1], bins=41, alpha=0.5, label='green', color='green')\n",
    "plt.hist(mean_values[:, 2], bins=41, alpha=0.5, label='blue', color='blue')\n",
    "plt.legend(loc='upper right')\n",
    "np.mean(mean_values, axis=0)"
   ]
  },
  {
   "cell_type": "code",
   "execution_count": 53,
   "metadata": {},
   "outputs": [
    {
     "data": {
      "text/plain": [
       "array([5.5606279 , 7.74131954, 0.57051455])"
      ]
     },
     "execution_count": 53,
     "metadata": {},
     "output_type": "execute_result"
    },
    {
     "data": {
      "image/png": "[encoded data removed]",
      "text/plain": [
       "<Figure size 432x288 with 1 Axes>"
      ]
     },
     "metadata": {
      "needs_background": "light"
     },
     "output_type": "display_data"
    }
   ],
   "source": [
    "sd_values = np.array(std_values)\n",
    "plt.hist(sd_values[:, 0], bins=41, alpha=0.5, label='red', color='red')\n",
    "plt.hist(sd_values[:, 1], bins=41, alpha=0.5, label='green', color='green')\n",
    "plt.hist(sd_values[:, 2], bins=41, alpha=0.5, label='blue', color='blue')\n",
    "plt.legend(loc='upper right')\n",
    "np.mean(sd_values, axis=0)"
   ]
  }
 ],
 "metadata": {
  "kernelspec": {
   "display_name": "Python 3",
   "language": "python",
   "name": "python3"
  },
  "language_info": {
   "codemirror_mode": {
    "name": "ipython",
    "version": 3
   },
   "file_extension": ".py",
   "mimetype": "text/x-python",
   "name": "python",
   "nbconvert_exporter": "python",
   "pygments_lexer": "ipython3",
   "version": "3.9.6"
  }
 },
 "nbformat": 4,
 "nbformat_minor": 2
}
